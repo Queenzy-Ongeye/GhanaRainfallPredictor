{
 "cells": [
  {
   "cell_type": "code",
   "execution_count": 1,
   "id": "f0e58cfa",
   "metadata": {},
   "outputs": [],
   "source": [
    "# importing libraries\n",
    "import os\n",
    "import sys\n",
    "import pandas as pd\n",
    "\n",
    "sys.path.append(\"../\")\n",
    "from utils.predictor import EnhancedGhanaRainfallPredictor"
   ]
  },
  {
   "cell_type": "code",
   "execution_count": 2,
   "id": "0e04251a",
   "metadata": {},
   "outputs": [],
   "source": [
    "pred = EnhancedGhanaRainfallPredictor()"
   ]
  },
  {
   "cell_type": "code",
   "execution_count": 3,
   "id": "7c0a4454",
   "metadata": {},
   "outputs": [
    {
     "ename": "RuntimeError",
     "evalue": "Train the model first: call pred.train_model(...) before testing.",
     "output_type": "error",
     "traceback": [
      "\u001b[31m---------------------------------------------------------------------------\u001b[39m",
      "\u001b[31mRuntimeError\u001b[39m                              Traceback (most recent call last)",
      "\u001b[36mCell\u001b[39m\u001b[36m \u001b[39m\u001b[32mIn[3]\u001b[39m\u001b[32m, line 2\u001b[39m\n\u001b[32m      1\u001b[39m \u001b[38;5;28;01mif\u001b[39;00m pred.preprocessor \u001b[38;5;129;01mis\u001b[39;00m \u001b[38;5;28;01mNone\u001b[39;00m \u001b[38;5;129;01mor\u001b[39;00m pred.final_model \u001b[38;5;129;01mis\u001b[39;00m \u001b[38;5;28;01mNone\u001b[39;00m:\n\u001b[32m----> \u001b[39m\u001b[32m2\u001b[39m     \u001b[38;5;28;01mraise\u001b[39;00m \u001b[38;5;167;01mRuntimeError\u001b[39;00m(\u001b[33m\"\u001b[39m\u001b[33mTrain the model first: call pred.train_model(...) before testing.\u001b[39m\u001b[33m\"\u001b[39m)\n\u001b[32m      4\u001b[39m test_path = \u001b[33m\"\u001b[39m\u001b[33m../data/test.csv\u001b[39m\u001b[33m\"\u001b[39m\n\u001b[32m      5\u001b[39m test_df = pd.read_csv(test_path)\n",
      "\u001b[31mRuntimeError\u001b[39m: Train the model first: call pred.train_model(...) before testing."
     ]
    }
   ],
   "source": [
    "if pred.preprocessor is None or pred.final_model is None:\n",
    "    raise RuntimeError(\"Train the model first: call pred.train_model(...) before testing.\")\n",
    "\n",
    "test_path = \"../data/test.csv\"\n",
    "test_df = pd.read_csv(test_path)"
   ]
  },
  {
   "cell_type": "code",
   "execution_count": 9,
   "id": "5c32efc9",
   "metadata": {},
   "outputs": [
    {
     "name": "stdout",
     "output_type": "stream",
     "text": [
      "=== Enhanced Preprocessing Ghana Rainfall Data ===\n",
      "Dropping indicator: 92.5% missing values\n",
      "Dropping indicator_description: 92.5% missing values\n",
      "Dropping time_observed: 92.5% missing values\n",
      "Categorical features (4): ['community', 'district', 'day_of_week', 'month']\n",
      "Numerical features (29): ['predicted_intensity', 'confidence', 'forecast_length', 'hour', 'day_of_year', 'is_weekend', 'is_rainy_season', 'is_dry_season', 'hour_sin', 'hour_cos', 'month_sin', 'month_cos', 'confidence_intensity_interaction', 'forecast_confidence_ratio', 'farmer_confidence_mean', 'farmer_confidence_std', 'farmer_confidence_count', 'farmer_predicted_intensity_mean', 'farmer_predicted_intensity_std', 'community_confidence_mean', 'community_confidence_std', 'community_confidence_count', 'community_predicted_intensity_mean', 'community_predicted_intensity_std', 'district_confidence_mean', 'district_confidence_std', 'district_confidence_count', 'district_predicted_intensity_mean', 'district_predicted_intensity_std']\n"
     ]
    }
   ],
   "source": [
    "# Use the SAME preprocessing you used for train\n",
    "test_df_proc = pred.preprocess_data(test_df)"
   ]
  },
  {
   "cell_type": "code",
   "execution_count": 10,
   "id": "9634a581",
   "metadata": {},
   "outputs": [],
   "source": [
    "# Use the fitted preprocessor from training (already stored in pred.preprocessor)\n",
    "exclude = [\"ID\", \"prediction_time\", \"user_id\", \"Target\"]  # Target won't exist on Zindi test\n",
    "X_test = test_df_proc[[c for c in test_df_proc.columns if c not in exclude]]"
   ]
  },
  {
   "cell_type": "code",
   "execution_count": 13,
   "id": "5c5d682f",
   "metadata": {},
   "outputs": [
    {
     "ename": "NameError",
     "evalue": "name 'X' is not defined",
     "output_type": "error",
     "traceback": [
      "\u001b[31m---------------------------------------------------------------------------\u001b[39m",
      "\u001b[31mNameError\u001b[39m                                 Traceback (most recent call last)",
      "\u001b[36mCell\u001b[39m\u001b[36m \u001b[39m\u001b[32mIn[13]\u001b[39m\u001b[32m, line 2\u001b[39m\n\u001b[32m      1\u001b[39m \u001b[38;5;66;03m#\u001b[39;00m\n\u001b[32m----> \u001b[39m\u001b[32m2\u001b[39m model, preproc = pred.train_model(\u001b[43mX\u001b[49m, y, optimize_hyperparams=\u001b[38;5;28;01mFalse\u001b[39;00m, use_best_sampling=\u001b[38;5;28;01mTrue\u001b[39;00m)\n",
      "\u001b[31mNameError\u001b[39m: name 'X' is not defined"
     ]
    }
   ],
   "source": [
    "#\n",
    "model, preproc = pred.train_model(X, y, optimize_hyperparams=False, use_best_sampling=True)"
   ]
  },
  {
   "cell_type": "code",
   "execution_count": null,
   "id": "421ec12a",
   "metadata": {},
   "outputs": [],
   "source": [
    "\n",
    "test_df = pd.read_csv(\"test.csv\")\n",
    "test_df_proc = pred.preprocess_data(test_df)\n",
    "\n",
    "exclude = [\"ID\", \"prediction_time\", \"user_id\", \"Target\"]\n",
    "X_test = test_df_proc[[c for c in test_df_proc.columns if c not in exclude]]\n",
    "\n",
    "X_test_tr = pred.preprocessor.transform(X_test)   # now works (preprocessor is fitted)\n",
    "test_pred  = pred.final_model.predict(X_test_tr)\n",
    "test_prob  = pred.final_model.predict_proba(X_test_tr)\n"
   ]
  },
  {
   "cell_type": "code",
   "execution_count": 11,
   "id": "2bf0d3a5",
   "metadata": {},
   "outputs": [
    {
     "ename": "AttributeError",
     "evalue": "'NoneType' object has no attribute 'transform'",
     "output_type": "error",
     "traceback": [
      "\u001b[31m---------------------------------------------------------------------------\u001b[39m",
      "\u001b[31mAttributeError\u001b[39m                            Traceback (most recent call last)",
      "\u001b[36mCell\u001b[39m\u001b[36m \u001b[39m\u001b[32mIn[11]\u001b[39m\u001b[32m, line 2\u001b[39m\n\u001b[32m      1\u001b[39m \u001b[38;5;66;03m# Transform + predict with the trained ensemble\u001b[39;00m\n\u001b[32m----> \u001b[39m\u001b[32m2\u001b[39m X_test_tr = \u001b[43mpred\u001b[49m\u001b[43m.\u001b[49m\u001b[43mpreprocessor\u001b[49m\u001b[43m.\u001b[49m\u001b[43mtransform\u001b[49m(X_test)\n\u001b[32m      3\u001b[39m test_pred = pred.final_model.predict(X_test_tr)\n\u001b[32m      4\u001b[39m test_prob = pred.final_model.predict_proba(X_test_tr)\n",
      "\u001b[31mAttributeError\u001b[39m: 'NoneType' object has no attribute 'transform'"
     ]
    }
   ],
   "source": [
    "# Transform + predict with the trained ensemble\n",
    "X_test_tr = pred.preprocessor.transform(X_test)\n",
    "test_pred = pred.final_model.predict(X_test_tr)\n",
    "test_prob = pred.final_model.predict_proba(X_test_tr)"
   ]
  },
  {
   "cell_type": "code",
   "execution_count": null,
   "id": "16e916c1",
   "metadata": {},
   "outputs": [],
   "source": [
    "# 4) Train final model (holdout metrics)\n",
    "pred.train_holdout(X, y)\n",
    "\n",
    "# 5) Test on test.csv (prints metrics if test has labels)\n",
    "# results = pred.test_on_file(\"test.csv\", target_column=\"Target\")\n",
    "# results.head()\n",
    "\n",
    "# 6) Save submission for Zindi\n",
    "# submission = pred.save_submission(\"test.csv\", \"SampleSubmission.csv\", \"MySubmission.csv\")\n",
    "# submission.head()"
   ]
  }
 ],
 "metadata": {
  "kernelspec": {
   "display_name": ".venv",
   "language": "python",
   "name": "python3"
  },
  "language_info": {
   "codemirror_mode": {
    "name": "ipython",
    "version": 3
   },
   "file_extension": ".py",
   "mimetype": "text/x-python",
   "name": "python",
   "nbconvert_exporter": "python",
   "pygments_lexer": "ipython3",
   "version": "3.12.11"
  }
 },
 "nbformat": 4,
 "nbformat_minor": 5
}
